{
 "cells": [
  {
   "cell_type": "code",
   "execution_count": 16,
   "metadata": {},
   "outputs": [],
   "source": [
    "def getinput(calculate_arg_fun):\n",
    "    def wrap_function():\n",
    "        n=int(input(\"Enter the number of terms:\"))\n",
    "        calculate_arg_fun(n)\n",
    "    return wrap_function\n",
    "   "
   ]
  },
  {
   "cell_type": "code",
   "execution_count": 17,
   "metadata": {},
   "outputs": [],
   "source": [
    "@getinput\n",
    "def fibnocci(n):\n",
    "    a=0\n",
    "    b=1\n",
    "    summ = 0\n",
    "    count = 1\n",
    "    print(\"Fibonacci Series: \", end = \" \")\n",
    "    while(count <= n):\n",
    "        print(summ, end = \" \")\n",
    "        count += 1\n",
    "        a = b\n",
    "        b = summ\n",
    "        summ = a + b\n",
    "        \n",
    "      \n",
    "    "
   ]
  },
  {
   "cell_type": "code",
   "execution_count": 18,
   "metadata": {},
   "outputs": [
    {
     "name": "stdout",
     "output_type": "stream",
     "text": [
      "Enter the number of terms:17\n",
      "Fibonacci Series:  0 1 1 2 3 5 8 13 21 34 55 89 144 233 377 610 987 "
     ]
    }
   ],
   "source": [
    "fibnocci()\n",
    "    "
   ]
  },
  {
   "cell_type": "code",
   "execution_count": 21,
   "metadata": {},
   "outputs": [
    {
     "name": "stdout",
     "output_type": "stream",
     "text": [
      "Invalid command\n"
     ]
    }
   ],
   "source": [
    "try:\n",
    "    n=open(\"abcd.txt\",'r')\n",
    "    n.write(\"Hi Goodevening\")\n",
    "except:\n",
    "    print(\"Invalid command\")\n",
    "    "
   ]
  },
  {
   "cell_type": "code",
   "execution_count": null,
   "metadata": {},
   "outputs": [],
   "source": []
  }
 ],
 "metadata": {
  "kernelspec": {
   "display_name": "Python 3",
   "language": "python",
   "name": "python3"
  },
  "language_info": {
   "codemirror_mode": {
    "name": "ipython",
    "version": 3
   },
   "file_extension": ".py",
   "mimetype": "text/x-python",
   "name": "python",
   "nbconvert_exporter": "python",
   "pygments_lexer": "ipython3",
   "version": "3.7.6"
  }
 },
 "nbformat": 4,
 "nbformat_minor": 4
}
