{
 "cells": [
  {
   "cell_type": "code",
   "execution_count": 1,
   "metadata": {},
   "outputs": [],
   "source": [
    "class BankAccount():\n",
    "    def __init__(self,ownerName,Balance):\n",
    "        self.ownerName=ownerName\n",
    "        self.Balance=Balance\n",
    "        \n",
    "    def deposit(self,amount):\n",
    "        self.Balance+=amount\n",
    "        \n",
    "    def withdraw(self,amount):\n",
    "        if self.Balance>amount:\n",
    "            self.Balance-=amount\n",
    "        else:\n",
    "            print(\"Insufficient Balance\")\n",
    "    def printDetails(self):\n",
    "        print(\"OwnerName:\",self.ownerName)\n",
    "        print(\"Balance:\",self.Balance)\n",
    "        "
   ]
  },
  {
   "cell_type": "code",
   "execution_count": 3,
   "metadata": {},
   "outputs": [
    {
     "name": "stdout",
     "output_type": "stream",
     "text": [
      "Insufficient Balance\n",
      "OwnerName: Nithin\n",
      "Balance: 1100\n"
     ]
    }
   ],
   "source": [
    "a=BankAccount(\"Nithin\",1000)\n",
    "a.deposit(100)\n",
    "a.withdraw(1200)\n",
    "a.printDetails()"
   ]
  },
  {
   "cell_type": "code",
   "execution_count": 12,
   "metadata": {},
   "outputs": [],
   "source": [
    "import math\n",
    "class cone():\n",
    "    def __init__(self,r,h):\n",
    "        self.r=r\n",
    "        self.h=h\n",
    "        \n",
    "    def volume(self):\n",
    "        v=math.pi*(self.r**2)*(self.h/3)\n",
    "        print(\"Volume:\",v)\n",
    "    def Surfacearea(self):\n",
    "        base=math.pi*(self.r**2)\n",
    "        side=math.pi*self.r*(math.sqrt((self.r**2)+(self.h**2)))\n",
    "        SA=base+side\n",
    "        print(\"Surface Area:\",SA)"
   ]
  },
  {
   "cell_type": "code",
   "execution_count": 16,
   "metadata": {},
   "outputs": [
    {
     "name": "stdout",
     "output_type": "stream",
     "text": [
      "Volume: 157.07963267948966\n",
      "Surface Area: 201.22293136239688\n"
     ]
    }
   ],
   "source": [
    "a=cone(5,6)\n",
    "a.volume()\n",
    "a.Surfacearea()\n"
   ]
  },
  {
   "cell_type": "code",
   "execution_count": null,
   "metadata": {},
   "outputs": [],
   "source": []
  }
 ],
 "metadata": {
  "kernelspec": {
   "display_name": "Python 3",
   "language": "python",
   "name": "python3"
  },
  "language_info": {
   "codemirror_mode": {
    "name": "ipython",
    "version": 3
   },
   "file_extension": ".py",
   "mimetype": "text/x-python",
   "name": "python",
   "nbconvert_exporter": "python",
   "pygments_lexer": "ipython3",
   "version": "3.7.6"
  }
 },
 "nbformat": 4,
 "nbformat_minor": 4
}
