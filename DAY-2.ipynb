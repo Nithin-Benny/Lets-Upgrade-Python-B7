{
 "cells": [
  {
   "cell_type": "code",
   "execution_count": 8,
   "metadata": {},
   "outputs": [
    {
     "name": "stdout",
     "output_type": "stream",
     "text": [
      "0\n",
      "['John', 3.5, 5, 'N']\n"
     ]
    }
   ],
   "source": [
    "list1=[1,\"John\",3.5,'a']\n",
    "list1.append(5)\n",
    "list1.pop(0)\n",
    "list1.remove('a')\n",
    "list1.insert(3,'N')\n",
    "print(list1.index('John'))\n",
    "print(list1)"
   ]
  },
  {
   "cell_type": "code",
   "execution_count": 16,
   "metadata": {},
   "outputs": [
    {
     "name": "stdout",
     "output_type": "stream",
     "text": [
      "red\n",
      "dict_keys(['apple', 'banana', 'grape', 'watermelon', 'orange'])\n",
      "dict_values(['red', 'yellow', 'purple', 'green', 'orange'])\n",
      "dict_items([('apple', 'red'), ('banana', 'yellow'), ('grape', 'purple'), ('watermelon', 'green'), ('orange', 'orange')])\n",
      "{'apple': 'red', 'banana': 'yellow', 'grape': 'purple', 'watermelon': 'green', 'orange': 'orange'}\n"
     ]
    }
   ],
   "source": [
    "dict1={\"apple\":\"red\",\"banana\":\"yellow\",\"grape\":\"purple\",\"watermelon\":\"green\"}\n",
    "print(dict1.get(\"apple\"))\n",
    "dict1.update({\"orange\":\"orange\"})\n",
    "print(dict1.keys())\n",
    "print(dict1.values())\n",
    "print(dict1.items())\n",
    "print(dict1)"
   ]
  },
  {
   "cell_type": "code",
   "execution_count": 18,
   "metadata": {},
   "outputs": [
    {
     "name": "stdout",
     "output_type": "stream",
     "text": [
      "{'orange', 'apple'}\n",
      "{'orange', 'apple', 'watermelon'}\n",
      "{'orange', 'apple'}\n"
     ]
    }
   ],
   "source": [
    "set1={\"apple\",\"banana\",\"grape\"}\n",
    "set2={\"apple\",\"orange\",\"watermelon\"}\n",
    "set1.add(\"orange\")\n",
    "set1.discard(\"banana\")\n",
    "set1.pop()\n",
    "print(set1)\n",
    "print(set1.union(set2))\n",
    "print(set1.intersection(set2))\n",
    "\n",
    "\n"
   ]
  },
  {
   "cell_type": "code",
   "execution_count": 22,
   "metadata": {},
   "outputs": [
    {
     "name": "stdout",
     "output_type": "stream",
     "text": [
      "2\n",
      "1\n",
      "1\n",
      "4\n",
      "5\n"
     ]
    }
   ],
   "source": [
    "tuple1=(1,2,3,4,1)\n",
    "print(tuple1.count(1))\n",
    "print(tuple1.index(2))\n",
    "print(min(tuple1))\n",
    "print(max(tuple1))\n",
    "print(len(tuple1))"
   ]
  },
  {
   "cell_type": "code",
   "execution_count": 27,
   "metadata": {},
   "outputs": [
    {
     "name": "stdout",
     "output_type": "stream",
     "text": [
      "lets upgrade\n",
      "5\n",
      "2\n",
      "LETS UPGRADE\n",
      "['Lets', 'Upgrade']\n"
     ]
    }
   ],
   "source": [
    "s1=\"Lets Upgrade\"\n",
    "print(s1.casefold())\n",
    "print(s1.find('U'))\n",
    "print(s1.count('e'))\n",
    "print(s1.upper())\n",
    "print(s1.split())\n"
   ]
  },
  {
   "cell_type": "code",
   "execution_count": null,
   "metadata": {},
   "outputs": [],
   "source": []
  }
 ],
 "metadata": {
  "kernelspec": {
   "display_name": "Python 3",
   "language": "python",
   "name": "python3"
  },
  "language_info": {
   "codemirror_mode": {
    "name": "ipython",
    "version": 3
   },
   "file_extension": ".py",
   "mimetype": "text/x-python",
   "name": "python",
   "nbconvert_exporter": "python",
   "pygments_lexer": "ipython3",
   "version": "3.7.6"
  }
 },
 "nbformat": 4,
 "nbformat_minor": 4
}
