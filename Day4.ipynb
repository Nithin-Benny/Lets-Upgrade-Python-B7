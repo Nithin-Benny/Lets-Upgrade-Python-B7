{
 "cells": [
  {
   "cell_type": "code",
   "execution_count": 1,
   "metadata": {},
   "outputs": [
    {
     "name": "stdout",
     "output_type": "stream",
     "text": [
      "The first Armstrong number is 1741725\n"
     ]
    }
   ],
   "source": [
    "i = 1042000\n",
    "while i<=702648265:\n",
    "    summ=0\n",
    "    s=str(i)\n",
    "    l=len(s)\n",
    "    for j in range(l):\n",
    "        summ+=int(s[j])**l\n",
    "    if summ==i:\n",
    "        print(\"The first Armstrong number is\",summ)\n",
    "        break\n",
    "    i+=1"
   ]
  },
  {
   "cell_type": "code",
   "execution_count": null,
   "metadata": {},
   "outputs": [],
   "source": []
  }
 ],
 "metadata": {
  "kernelspec": {
   "display_name": "Python 3",
   "language": "python",
   "name": "python3"
  },
  "language_info": {
   "codemirror_mode": {
    "name": "ipython",
    "version": 3
   },
   "file_extension": ".py",
   "mimetype": "text/x-python",
   "name": "python",
   "nbconvert_exporter": "python",
   "pygments_lexer": "ipython3",
   "version": "3.7.6"
  }
 },
 "nbformat": 4,
 "nbformat_minor": 4
}
